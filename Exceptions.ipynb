{
 "cells": [
  {
   "cell_type": "markdown",
   "metadata": {
    "deletable": true,
    "editable": true
   },
   "source": [
    "## Exceptions\n",
    "Exceptions are error conditions defined by a type. Ex. division by zero.\n",
    "IndexError, KeyError, NameError, ZeroDivisionError, etc.\n",
    "\n",
    "How to trap exceptions with try-except loops:\n",
    "\n",
    "`try:\n",
    "    try this code here\n",
    "except KeyError:\n",
    "    if it doesn't work, use this code here\n",
    "    `\n",
    "    \n",
    "Can also do tuples of all possible errors: `except(ValueError,IndexError)`. When getting an error, python will output a Traceback, aka a _stack trace_. It tells you at what point in each function or method call the error occurred. "
   ]
  },
  {
   "cell_type": "code",
   "execution_count": 3,
   "metadata": {
    "collapsed": false,
    "deletable": true,
    "editable": true
   },
   "outputs": [
    {
     "name": "stdout",
     "output_type": "stream",
     "text": [
      "entering main()\n",
      "entering major_func()\n",
      "entering some_func()\n",
      "entering do_something()\n",
      "entering make_error()\n",
      "   leaving make_error()\n",
      "   leaving do_something()\n",
      "   leaving some_func()\n",
      "   leaving major_func()\n",
      "   leaving main()\n"
     ]
    }
   ],
   "source": [
    "#Example:\n",
    "\n",
    "class MyClass(object):\n",
    "    @staticmethod\n",
    "    def make_error():\n",
    "        print('entering make_error()')\n",
    "        #5/0  let's comment this out to remove the error\n",
    "        print('   leaving make_error()')\n",
    "        \n",
    "    def do_something(self):\n",
    "        print('entering do_something()')\n",
    "        self.make_error()\n",
    "        print('   leaving do_something()')\n",
    "        \n",
    "def some_func():\n",
    "    print('entering some_func()')\n",
    "    cc = MyClass()\n",
    "    cc.do_something()\n",
    "    print('   leaving some_func()')\n",
    "def major_func():\n",
    "    print('entering major_func()')\n",
    "    some_func()\n",
    "    print('   leaving major_func()')\n",
    "def main():\n",
    "    print('entering main()')\n",
    "    major_func()\n",
    "    print('   leaving main()')\n",
    "    \n",
    "main()"
   ]
  },
  {
   "cell_type": "markdown",
   "metadata": {
    "deletable": true,
    "editable": true
   },
   "source": [
    "The error exception can be placed anywhere within the call stack.\n",
    "\n",
    "How do we raise an exception ourselves? May want to raise a different exception than python, or if we think something is wrong but python does not. "
   ]
  },
  {
   "cell_type": "code",
   "execution_count": 5,
   "metadata": {
    "collapsed": false,
    "deletable": true,
    "editable": true
   },
   "outputs": [
    {
     "ename": "TypeError",
     "evalue": "make_delim_line(): arg 1 must be a list or tuple",
     "output_type": "error",
     "traceback": [
      "\u001b[0;31m---------------------------------------------------------------------------\u001b[0m",
      "\u001b[0;31mTypeError\u001b[0m                                 Traceback (most recent call last)",
      "\u001b[0;32m<ipython-input-5-a854dbc975dc>\u001b[0m in \u001b[0;36m<module>\u001b[0;34m()\u001b[0m\n\u001b[1;32m      7\u001b[0m     \u001b[0;32mreturn\u001b[0m \u001b[0mformatted_line\u001b[0m\u001b[0;34m\u001b[0m\u001b[0m\n\u001b[1;32m      8\u001b[0m \u001b[0;34m\u001b[0m\u001b[0m\n\u001b[0;32m----> 9\u001b[0;31m \u001b[0mfline\u001b[0m \u001b[0;34m=\u001b[0m \u001b[0mmake_delim_line\u001b[0m\u001b[0;34m(\u001b[0m\u001b[0;36m100\u001b[0m\u001b[0;34m,\u001b[0m\u001b[0;34m','\u001b[0m\u001b[0;34m)\u001b[0m\u001b[0;34m\u001b[0m\u001b[0m\n\u001b[0m",
      "\u001b[0;32m<ipython-input-5-a854dbc975dc>\u001b[0m in \u001b[0;36mmake_delim_line\u001b[0;34m(list_to_join, delim)\u001b[0m\n\u001b[1;32m      3\u001b[0m         \u001b[0mformatted_line\u001b[0m \u001b[0;34m=\u001b[0m \u001b[0mdelim\u001b[0m\u001b[0;34m.\u001b[0m\u001b[0mjoin\u001b[0m\u001b[0;34m(\u001b[0m\u001b[0mlist_to_join\u001b[0m\u001b[0;34m)\u001b[0m\u001b[0;34m\u001b[0m\u001b[0m\n\u001b[1;32m      4\u001b[0m     \u001b[0;32mexcept\u001b[0m \u001b[0mTypeError\u001b[0m\u001b[0;34m:\u001b[0m\u001b[0;34m\u001b[0m\u001b[0m\n\u001b[0;32m----> 5\u001b[0;31m         \u001b[0;32mraise\u001b[0m \u001b[0mTypeError\u001b[0m\u001b[0;34m(\u001b[0m\u001b[0;34m'make_delim_line(): arg 1 must be a list or tuple'\u001b[0m\u001b[0;34m)\u001b[0m\u001b[0;34m\u001b[0m\u001b[0m\n\u001b[0m\u001b[1;32m      6\u001b[0m \u001b[0;34m\u001b[0m\u001b[0m\n\u001b[1;32m      7\u001b[0m     \u001b[0;32mreturn\u001b[0m \u001b[0mformatted_line\u001b[0m\u001b[0;34m\u001b[0m\u001b[0m\n",
      "\u001b[0;31mTypeError\u001b[0m: make_delim_line(): arg 1 must be a list or tuple"
     ]
    }
   ],
   "source": [
    "def make_delim_line(list_to_join,delim):\n",
    "    try:\n",
    "        formatted_line = delim.join(list_to_join)\n",
    "    except TypeError:\n",
    "        raise TypeError('make_delim_line(): arg 1 must be a list or tuple')\n",
    "    \n",
    "    return formatted_line\n",
    "\n",
    "fline = make_delim_line(100,',')"
   ]
  },
  {
   "cell_type": "markdown",
   "metadata": {
    "deletable": true,
    "editable": true
   },
   "source": [
    "Instances of the exception class becomes available to us at the time that we trap it, if we follow the class name (i.e. TypeError). Built-in python exceptions can be found [here](https://docs.python.org/2/library/exceptions.html)."
   ]
  },
  {
   "cell_type": "code",
   "execution_count": 15,
   "metadata": {
    "collapsed": false,
    "deletable": true,
    "editable": true
   },
   "outputs": [
    {
     "name": "stdout",
     "output_type": "stream",
     "text": [
      "(\"name 'c' is not defined\",)\n"
     ]
    }
   ],
   "source": [
    "mydict = {'a':1,'b':2}\n",
    "\n",
    "try:\n",
    "    print mydict[c]\n",
    "except NameError as e:\n",
    "    print(e.args)"
   ]
  },
  {
   "cell_type": "markdown",
   "metadata": {
    "deletable": true,
    "editable": true
   },
   "source": [
    "### Define our own Exception Types\n",
    "\n",
    "We can create our own exception classes and inherit from parent classes. Usually they don't do much more than display a message so it's easy for other users to know what's going on. It's important to trap and handle user errors because they're the most common type of error. "
   ]
  },
  {
   "cell_type": "code",
   "execution_count": 19,
   "metadata": {
    "collapsed": false,
    "deletable": true,
    "editable": true
   },
   "outputs": [
    {
     "name": "stdout",
     "output_type": "stream",
     "text": [
      "calling init\n",
      "calling str\n"
     ]
    },
    {
     "ename": "MyError",
     "evalue": "here's a MyError exception with a message: Houston, we have a problem!",
     "output_type": "error",
     "traceback": [
      "\u001b[0;31m---------------------------------------------------------------------------\u001b[0m",
      "\u001b[0;31mMyError\u001b[0m                                   Traceback (most recent call last)",
      "\u001b[0;32m<ipython-input-19-009df66ba826>\u001b[0m in \u001b[0;36m<module>\u001b[0;34m()\u001b[0m\n\u001b[1;32m     14\u001b[0m \u001b[0;34m\u001b[0m\u001b[0m\n\u001b[1;32m     15\u001b[0m \u001b[0;31m#raise MyError\u001b[0m\u001b[0;34m\u001b[0m\u001b[0;34m\u001b[0m\u001b[0m\n\u001b[0;32m---> 16\u001b[0;31m \u001b[0;32mraise\u001b[0m \u001b[0mMyError\u001b[0m\u001b[0;34m(\u001b[0m\u001b[0;34m'Houston, we have a problem!'\u001b[0m\u001b[0;34m)\u001b[0m\u001b[0;34m\u001b[0m\u001b[0m\n\u001b[0m",
      "\u001b[0;31mMyError\u001b[0m: here's a MyError exception with a message: Houston, we have a problem!"
     ]
    },
    {
     "name": "stdout",
     "output_type": "stream",
     "text": [
      "calling str\n",
      "calling str\n"
     ]
    }
   ],
   "source": [
    "class MyError(Exception):\n",
    "    def __init__(self,*args):\n",
    "        print 'calling init'\n",
    "        if args:\n",
    "            self.message = args[0]\n",
    "        else:\n",
    "            self.message = ''\n",
    "    def __str__(self):\n",
    "        print 'calling str'\n",
    "        if self.message:\n",
    "            return \"here's a MyError exception with a message: {}\".format(self.message)\n",
    "        else:\n",
    "            return \"here's a MyError exception\"\n",
    "        \n",
    "#raise MyError\n",
    "raise MyError('Houston, we have a problem!')"
   ]
  },
  {
   "cell_type": "markdown",
   "metadata": {
    "deletable": true,
    "editable": true
   },
   "source": [
    "## Assignment 4 Testing\n",
    "\n",
    "Think about our class from assignment 3 and any user errors that might occur and how to handle them. Create a custom error class that handles the dictionary 'KeyError' by listing out the keys that _do_ exist within the dictionary. \n",
    "\n",
    "Things that could go wrong:\n",
    "* file doesn't exist / path to file is bad?\n",
    "* ask for a key that doesn't exist\n",
    "\n",
    "\n",
    "add a `__getitem__(self,key)` to ConfigDict"
   ]
  },
  {
   "cell_type": "code",
   "execution_count": 24,
   "metadata": {
    "collapsed": false,
    "deletable": true,
    "editable": true
   },
   "outputs": [],
   "source": [
    "import os\n",
    "\n",
    "class ConfigDict(dict):\n",
    "\n",
    "    def __init__(self,filename):\n",
    "        self._filename=filename\n",
    "        if os.path.isfile(self._filename):\n",
    "            with open(self._filename) as fh:\n",
    "                for line in fh:\n",
    "                    line = line.rstrip()\n",
    "                    key,val = line.split(\"=\",1)\n",
    "                    dict.__setitem__(self,key,val)\n",
    "\n",
    "    def __setitem__(self,key,val):\n",
    "        dict.__setitem__(self,key,val)\n",
    "        with open(self._filename,'w') as fh:\n",
    "            for key,val in self.items():\n",
    "                fh.write(\"{}={}\\n\".format(key,val))\n",
    "                \n",
    "    def __getitem__(self,key):\n",
    "        try:\n",
    "            return dict.__getitem__(self,key)\n",
    "        except KeyError:\n",
    "            raise ConfigKeyError(self,key)\n",
    "            \n",
    "class ConfigKeyError(Exception):\n",
    "    def __init__(self,*args):\n",
    "        self.message = \"Key '{}' not found. Available keys: {}\".format(args[1],tuple(args[0].keys()))\n",
    "        \n",
    "    def __str__(self):\n",
    "        return self.message"
   ]
  },
  {
   "cell_type": "code",
   "execution_count": null,
   "metadata": {
    "collapsed": true,
    "deletable": true,
    "editable": true
   },
   "outputs": [],
   "source": []
  }
 ],
 "metadata": {
  "kernelspec": {
   "display_name": "Python [default]",
   "language": "python",
   "name": "python2"
  },
  "language_info": {
   "codemirror_mode": {
    "name": "ipython",
    "version": 2
   },
   "file_extension": ".py",
   "mimetype": "text/x-python",
   "name": "python",
   "nbconvert_exporter": "python",
   "pygments_lexer": "ipython2",
   "version": "2.7.12"
  }
 },
 "nbformat": 4,
 "nbformat_minor": 0
}
