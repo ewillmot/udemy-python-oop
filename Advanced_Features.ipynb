{
 "cells": [
  {
   "cell_type": "markdown",
   "metadata": {},
   "source": [
    "## Python Core Syntax\n",
    "\n",
    "Built-in operators are called 'syntactic sugar': aka there isn't an intrinsic meaning other than it resolves to another call. (`+` operator is the same as calling `__add__` for example)\n",
    "* var + var2 calls `var.__add__(var2)`\n",
    "* 'abc' in var calls `var.__contains__('abc')`\n",
    "* var == 'abc' calls `var.__eq__(var2)`\n",
    "* var[1] calls `var.__getitem__(1)`\n",
    "* var[1:3] calls `var.__getslice__(1,3)`\n",
    "* len(var) calls `var.__len__()`\n",
    "* print var calls `var.__repr__()`"
   ]
  },
  {
   "cell_type": "code",
   "execution_count": 2,
   "metadata": {
    "collapsed": false
   },
   "outputs": [
    {
     "name": "stdout",
     "output_type": "stream",
     "text": [
      "hello world!\n",
      "hello world!\n",
      "15\n"
     ]
    }
   ],
   "source": [
    "var = 'hello'\n",
    "var2 = ' world!'\n",
    "\n",
    "print var + var2 \n",
    "print var.__add__(var2) # Considered a magic attribute if it has __ and __ around it.\n",
    "\n",
    "\n",
    "var = 5\n",
    "var2 = 10\n",
    "print var.__add__(var2)"
   ]
  },
  {
   "cell_type": "code",
   "execution_count": 7,
   "metadata": {
    "collapsed": false
   },
   "outputs": [
    {
     "name": "stdout",
     "output_type": "stream",
     "text": [
      "[101, 202, 303, 404]\n"
     ]
    }
   ],
   "source": [
    "class SumList(object):\n",
    "    \n",
    "    def __init__(self,this_list):\n",
    "        self.mylist = this_list\n",
    "        \n",
    "    def __add__(self,other):\n",
    "        \n",
    "        new_list = [x+y for x,y in zip(self.mylist,other.mylist)]\n",
    "        return SumList(new_list)\n",
    "    \n",
    "    def __repr__(self): # repr is used when printing an object. It prints a string representation.\n",
    "        return str(self.mylist)\n",
    "    \n",
    "\n",
    "cc = SumList([1,2,3,4])\n",
    "dd = SumList([100,200,300,400])\n",
    "ee = cc + dd\n",
    "print ee # Try printing this with the __repr__ lines commented out."
   ]
  },
  {
   "cell_type": "markdown",
   "metadata": {},
   "source": [
    "Python lets our classes inherit from built-in classes. We can take advantage of built=in functionality, but customize seleted operations where we need to."
   ]
  },
  {
   "cell_type": "code",
   "execution_count": 9,
   "metadata": {
    "collapsed": false
   },
   "outputs": [
    {
     "name": "stdout",
     "output_type": "stream",
     "text": [
      "Setting a key and value!\n",
      "Setting a key and value!\n"
     ]
    }
   ],
   "source": [
    "class MyDict(dict):\n",
    "    \n",
    "    def __setitem__(self,key,val):\n",
    "        print \"Setting a key and value!\"\n",
    "        dict.__setitem__(self,key,val)\n",
    "        \n",
    "a = MyDict()\n",
    "a['first']=1\n",
    "a['second']=5"
   ]
  },
  {
   "cell_type": "markdown",
   "metadata": {},
   "source": [
    "### Attribute Encapsulation\n",
    "We can set attributes anywhere to anything outside the class, which breaks encapsulation. We can create getter/setter methods, but they are clunky and expect users to 'do the right thing'. Let's use the `@property`, `@setter`, and `@deleter` decorators. \n",
    "\n",
    "In the example below, the outward-facing name is `var` but internally, it's referred to as `attrval`. Now the user is free from having to use getter-setter methods to change the attribute. "
   ]
  },
  {
   "cell_type": "code",
   "execution_count": 11,
   "metadata": {
    "collapsed": false
   },
   "outputs": [
    {
     "name": "stdout",
     "output_type": "stream",
     "text": [
      "Setting the 'var' attribute\n",
      "Getting the 'var' attribute\n",
      "1000\n",
      "Deleting the 'var' attribute\n",
      "Getting the 'var' attribute\n",
      "None\n"
     ]
    }
   ],
   "source": [
    "class GetSet(object):\n",
    "    \n",
    "    def __init__(self,value):\n",
    "        self.attrval = value\n",
    "        \n",
    "    @property\n",
    "    def var(self):\n",
    "        print(\"Getting the 'var' attribute\")\n",
    "        return self.attrval\n",
    "    \n",
    "    @var.setter\n",
    "    def var(self,value):\n",
    "        print(\"Setting the 'var' attribute\")\n",
    "        self.attrval = value\n",
    "\n",
    "    @var.deleter\n",
    "    def var(self):\n",
    "        print(\"Deleting the 'var' attribute\")\n",
    "        self.attrval = None\n",
    "        \n",
    "me = GetSet(5)\n",
    "me.var = 1000\n",
    "print me.var\n",
    "del me.var\n",
    "print me.var"
   ]
  },
  {
   "cell_type": "markdown",
   "metadata": {},
   "source": [
    "## Variable Conventions:\n",
    "uppercase v. lowercase matters:\n",
    "* module names: all_lower_case\n",
    "* Class names and exceptions: UpperCases\n",
    "* globals and locals: all_lower_case\n",
    "* functions and methods: all_lower_case \n",
    "* constants: ALL_CAPS\n",
    "\n",
    "\n",
    "Private v. Public Attributes: Private attributes should not be used by the user of the code, but internally.\n",
    "* public: `regular_lower_case`\n",
    "* private attributes: `_single_leading_underscore`\n",
    "* private attributes (shouldn't be subclassed): `__double_leading_underscore`\n",
    "* magic attributes: `__double_underscores__` (use them, don't create them)."
   ]
  },
  {
   "cell_type": "code",
   "execution_count": 14,
   "metadata": {
    "collapsed": false
   },
   "outputs": [
    {
     "name": "stdout",
     "output_type": "stream",
     "text": [
      "Setting the 'var' attribute\n",
      "Getting the 'var' attribute\n",
      "1000\n",
      "1000\n",
      "no privacy!\n"
     ]
    }
   ],
   "source": [
    "class GetSet(object):\n",
    "    \n",
    "    instancecount = 0\n",
    "    __mangled_name = 'no privacy!'\n",
    "    \n",
    "    def __init__(self,value):\n",
    "        self._attrval = value\n",
    "        GetSet.instancecount+=1\n",
    "        \n",
    "    @property\n",
    "    def var(self):\n",
    "        print(\"Getting the 'var' attribute\")\n",
    "        return self._attrval\n",
    "    \n",
    "    @var.setter\n",
    "    def var(self,value):\n",
    "        print(\"Setting the 'var' attribute\")\n",
    "        self._attrval = value\n",
    "\n",
    "    @var.deleter\n",
    "    def var(self):\n",
    "        print(\"Deleting the 'var' attribute\")\n",
    "        self._attrval = None\n",
    "        \n",
    "me = GetSet(5)\n",
    "me.var = 1000\n",
    "print me.var\n",
    "print me._attrval\n",
    "#print me__mangled_name # Doesn't work\n",
    "print me._GetSet__mangled_name"
   ]
  },
  {
   "cell_type": "code",
   "execution_count": null,
   "metadata": {
    "collapsed": true
   },
   "outputs": [],
   "source": []
  }
 ],
 "metadata": {
  "kernelspec": {
   "display_name": "Python [default]",
   "language": "python",
   "name": "python2"
  },
  "language_info": {
   "codemirror_mode": {
    "name": "ipython",
    "version": 2
   },
   "file_extension": ".py",
   "mimetype": "text/x-python",
   "name": "python",
   "nbconvert_exporter": "python",
   "pygments_lexer": "ipython2",
   "version": "2.7.12"
  }
 },
 "nbformat": 4,
 "nbformat_minor": 0
}
