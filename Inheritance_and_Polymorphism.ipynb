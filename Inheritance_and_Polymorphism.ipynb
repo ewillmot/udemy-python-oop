{
 "cells": [
  {
   "cell_type": "markdown",
   "metadata": {},
   "source": [
    "### Inheritance\n",
    "Essentially another level of attribute look-up. Classes can be organized into an inheritance hierarchy where a child class can access all the attributes of a parent class.\n",
    "\n",
    "Helps with \"No code should appear twice\"..."
   ]
  },
  {
   "cell_type": "code",
   "execution_count": 1,
   "metadata": {
    "collapsed": false
   },
   "outputs": [
    {
     "name": "stdout",
     "output_type": "stream",
     "text": [
      "14:30\n",
      "2017/8/23\n"
     ]
    }
   ],
   "source": [
    "class Date(object):\n",
    "    def get_date(self):\n",
    "        return '2017/8/23'\n",
    "\n",
    "# Time inherits from the 'date' class - aka Time is the Child class, Date is the Parent class\n",
    "class Time(Date):\n",
    "    def get_time(self):\n",
    "        return '14:30'\n",
    "\n",
    "dt = Date()\n",
    "tm = Time()\n",
    "print tm.get_time()\n",
    "print tm.get_date() #<-- can call `get_date` because we put Date in the arguments list for class Time"
   ]
  },
  {
   "cell_type": "markdown",
   "metadata": {},
   "source": [
    "### Polymorphism\n",
    "Two classes with the same interface (i.e. a method name), where the methods may be different but conceptually similar. This allows for expressiveness in design (this group of related classes implement the same design).\n",
    "\n",
    "*Duck typing* = reading an object's attributes to determine whether it's the proper type rather than checking the type. (Comes from saying \"If it walks like a duck, and quacks like a duck, it must be a duck.\")"
   ]
  },
  {
   "cell_type": "code",
   "execution_count": 2,
   "metadata": {
    "collapsed": false
   },
   "outputs": [
    {
     "name": "stdout",
     "output_type": "stream",
     "text": [
      "Rover goes after the stick!\n",
      "Lab\n"
     ]
    }
   ],
   "source": [
    "## The `super` function:\n",
    "## Built-in function designed to relate a class to it's parent/super class.\n",
    "## Allows code to be modular and well-maintained\n",
    "\n",
    "import random\n",
    "\n",
    "class Animal(object):\n",
    "    def __init__(self,name):\n",
    "        self.name = name\n",
    "        \n",
    "class Dog(Animal):\n",
    "    \n",
    "    def __init__(self,name):\n",
    "        super(Dog,self).__init__(name)\n",
    "        self.breed = random.choice(['Shih Tzu','Golden Retriever','Lab'])\n",
    "        \n",
    "    def fetch(self,obj):\n",
    "        print('%s goes after the %s!'% (self.name,obj))\n",
    "        \n",
    "r = Dog('Rover')\n",
    "r.fetch('stick')\n",
    "print r.breed"
   ]
  },
  {
   "cell_type": "markdown",
   "metadata": {},
   "source": [
    "### What about multiple inheritance?\n",
    "Python normally uses a \"depth-first\" order, but when two classes inherit from the same class, Python eliminates all occurrences of the shared parent class from the mro (*method resolution order*). "
   ]
  },
  {
   "cell_type": "code",
   "execution_count": 3,
   "metadata": {
    "collapsed": false
   },
   "outputs": [
    {
     "name": "stdout",
     "output_type": "stream",
     "text": [
      "Hi, I\"m A\n",
      "[<class '__main__.D'>, <class '__main__.B'>, <class '__main__.A'>, <class '__main__.C'>, <type 'object'>]\n"
     ]
    }
   ],
   "source": [
    "class A(object):\n",
    "    def dothis(self):\n",
    "        print('Hi, I\"m A')\n",
    "class B(A):\n",
    "    pass\n",
    "class C(object):\n",
    "    def dothis(self):\n",
    "        print('Hi, I\"m C')\n",
    "class D(B,C):\n",
    "    pass\n",
    "\n",
    "d = D()\n",
    "d.dothis()\n",
    "\n",
    "## Method resolution order (mro) is D-B-A-C:\n",
    "print D.mro()"
   ]
  },
  {
   "cell_type": "markdown",
   "metadata": {},
   "source": [
    "What if it was D-B-A-C-A? Python removes the earlier occurrence of A to get rid of the ambiguity, so it does D-B-C-A. This is called a \"diamond shaped\" inheritance. "
   ]
  },
  {
   "cell_type": "markdown",
   "metadata": {},
   "source": [
    "### Decorators\n",
    "Special processors that can modify functions... \n",
    "We can use the `@classmethod` decorator to modify a function to pass the class when called, instead of the instance. We can also use the `@staticmethod` decorator to modify a function that is neither a class method nor an instance method, but a utility method. "
   ]
  },
  {
   "cell_type": "code",
   "execution_count": 4,
   "metadata": {
    "collapsed": false
   },
   "outputs": [
    {
     "name": "stdout",
     "output_type": "stream",
     "text": [
      "Value =  5\n",
      "Count =  3\n",
      "\n",
      "Value =  10\n",
      "Count =  3\n",
      "\n",
      "Value =  3\n",
      "Count =  3\n",
      "\n",
      "3\n",
      "3\n"
     ]
    }
   ],
   "source": [
    "\n",
    "class InstanceCounter(object):\n",
    "    count = 0\n",
    "    def __init__(self,val):\n",
    "        self.val = val\n",
    "        InstanceCounter.count+=1\n",
    "        \n",
    "    def set_val(self,newval):\n",
    "        self.val = newval\n",
    "    def get_val(self):\n",
    "        return self.val\n",
    "    \n",
    "    @classmethod\n",
    "    ## Because we want this function to return a class attribute,\n",
    "    ## we want to make sure it's obvious we're working with a class\n",
    "    ## and not the instance, even if the code would work the same way.\n",
    "    def get_count(cls):\n",
    "        return cls.count\n",
    "    \n",
    "a = InstanceCounter(5)\n",
    "b = InstanceCounter(10)\n",
    "c = InstanceCounter(3)\n",
    "\n",
    "for obj in (a,b,c):\n",
    "    print 'Value = ',obj.get_val()\n",
    "    print 'Count = ',obj.get_count()\n",
    "    print ''\n",
    "    \n",
    "print InstanceCounter.get_count()    \n",
    "print InstanceCounter.count"
   ]
  },
  {
   "cell_type": "code",
   "execution_count": 5,
   "metadata": {
    "collapsed": false
   },
   "outputs": [
    {
     "name": "stdout",
     "output_type": "stream",
     "text": [
      "5 10 0\n"
     ]
    }
   ],
   "source": [
    "class InstanceCounter(object):\n",
    "    count = 0\n",
    "    def __init__(self,val):\n",
    "        self.val = self.filterint(val)\n",
    "        InstanceCounter.count+=1\n",
    "        \n",
    "    @staticmethod\n",
    "    # Neither an instance nor a class method, but still belongs in the class code\n",
    "    # bc it is used by the class. \n",
    "    def filterint(value):\n",
    "        if not isinstance(value,int):\n",
    "            return 0\n",
    "        else:\n",
    "            return value\n",
    "        \n",
    "a = InstanceCounter(5)\n",
    "b = InstanceCounter(10)\n",
    "c = InstanceCounter(13.2) #<- test it out with a bad value\n",
    "\n",
    "print a.val,b.val,c.val"
   ]
  },
  {
   "cell_type": "markdown",
   "metadata": {},
   "source": [
    "### Abstract Base Classes\n",
    "An *abstract class* is a model for other classes to be defined. It does not construct instances, but can be subclassed by regular classes. They can define an *interface*, or methods that must be implemented by its sub-classes."
   ]
  },
  {
   "cell_type": "code",
   "execution_count": null,
   "metadata": {
    "collapsed": true
   },
   "outputs": [],
   "source": []
  }
 ],
 "metadata": {
  "kernelspec": {
   "display_name": "Python [default]",
   "language": "python",
   "name": "python2"
  },
  "language_info": {
   "codemirror_mode": {
    "name": "ipython",
    "version": 2
   },
   "file_extension": ".py",
   "mimetype": "text/x-python",
   "name": "python",
   "nbconvert_exporter": "python",
   "pygments_lexer": "ipython2",
   "version": "2.7.12"
  }
 },
 "nbformat": 4,
 "nbformat_minor": 0
}
