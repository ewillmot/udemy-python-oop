{
 "cells": [
  {
   "cell_type": "markdown",
   "metadata": {
    "deletable": true,
    "editable": true
   },
   "source": [
    "## Course Intro\n",
    "* Primitives are non-object data\n",
    "* An object is a unit of data (having one or more attributes), of a particular class or type, with associated functionality.\n",
    "* To find out attributes associated with a variable, type `dir(myvariable)`.\n",
    "* Standard python convention - classes' first letters are uppercase.\n",
    "\n",
    "\n",
    "#### Terms:\n",
    "* Commonly used terms and their definitions:\n",
    "    * **Class**: blueprint for an instance\n",
    "    * **Instance**: constructed object of the class\n",
    "    * **Type**: indicates the class the instance belongs to\n",
    "    * **Attribute**: Any object value\n",
    "    * **Method**: A callable attribute defined in the class."
   ]
  },
  {
   "cell_type": "code",
   "execution_count": 9,
   "metadata": {
    "collapsed": true,
    "deletable": true,
    "editable": true
   },
   "outputs": [],
   "source": [
    "class MyClass(object):\n",
    "    pass   #<-- Python speak: means block has nothing in it."
   ]
  },
  {
   "cell_type": "code",
   "execution_count": 10,
   "metadata": {
    "collapsed": false,
    "deletable": true,
    "editable": true
   },
   "outputs": [
    {
     "name": "stdout",
     "output_type": "stream",
     "text": [
      "<__main__.MyClass object at 0x1041ac990>\n"
     ]
    }
   ],
   "source": [
    "this_obj = MyClass()\n",
    "print this_obj"
   ]
  },
  {
   "cell_type": "code",
   "execution_count": 11,
   "metadata": {
    "collapsed": false,
    "deletable": true,
    "editable": true
   },
   "outputs": [
    {
     "name": "stdout",
     "output_type": "stream",
     "text": [
      "10\n"
     ]
    }
   ],
   "source": [
    "class NewClass(object):\n",
    "    var = 10\n",
    "    \n",
    "new_obj = NewClass()\n",
    "print new_obj.var"
   ]
  },
  {
   "cell_type": "markdown",
   "metadata": {
    "deletable": true,
    "editable": true
   },
   "source": [
    "* Six main points about classes:\n",
    "    * An instance of a class knows what class it's from.\n",
    "    * Vars defined in the class are available to the instance\n",
    "    * A method on an instance passes instance as the first argument (named *self*)\n",
    "    * Instances have their own data, called instance attributes\n",
    "    * Variables defined in the class are called class attributes\n",
    "    * When we read an attribute, Python looks for it first in the instance, then in the class."
   ]
  },
  {
   "cell_type": "code",
   "execution_count": 12,
   "metadata": {
    "collapsed": false,
    "deletable": true,
    "editable": true
   },
   "outputs": [
    {
     "name": "stdout",
     "output_type": "stream",
     "text": [
      "<__main__.Me object at 0x1041c65d0>\n",
      "<__main__.Me object at 0x1041c65d0>\n"
     ]
    }
   ],
   "source": [
    "class Me(object):\n",
    "    def whoami(self):\n",
    "        print(self)\n",
    "        \n",
    "myname = Me()\n",
    "myname.whoami()\n",
    "print myname"
   ]
  },
  {
   "cell_type": "code",
   "execution_count": 13,
   "metadata": {
    "collapsed": false,
    "deletable": true,
    "editable": true
   },
   "outputs": [
    {
     "name": "stdout",
     "output_type": "stream",
     "text": [
      "1\n"
     ]
    }
   ],
   "source": [
    "import random\n",
    "class ABC(object):\n",
    "    def dosomething(self):\n",
    "        self.rand_val = random.randint(1,10)\n",
    "        \n",
    "myinst = ABC()\n",
    "myinst.dosomething()\n",
    "print myinst.rand_val\n"
   ]
  },
  {
   "cell_type": "markdown",
   "metadata": {
    "deletable": true,
    "editable": true
   },
   "source": [
    "### Encapsulation\n",
    "Can we set an attribute like this:\n",
    "\n",
    "`myinst.value = 10`\n",
    "\n",
    "as opposed to this:\n",
    "\n",
    "`myinst.set_val(10)\n",
    "print(myinst.value)`\n",
    "\n",
    "Well, yes, but setting it within a method will ensure that it works as expected. Ex. What if value is expecting a floating point, but we set it as a string? This is called **encapsulation** and refers to the safe storage of data in an instance. \"Setter\" and \"getter\" methods are often used in OOP to implement encapsulation.\n",
    "\n",
    "\n",
    "### `__init__` Constructor\n",
    "While not required, the `__init__` construct is called when a new instance is created and allows us to initialize attributes at the time of creation. "
   ]
  },
  {
   "cell_type": "code",
   "execution_count": 15,
   "metadata": {
    "collapsed": false,
    "deletable": true,
    "editable": true
   },
   "outputs": [],
   "source": [
    "class MaxSizeList(object):\n",
    "    \n",
    "    def __init__(self,maxsize):\n",
    "        self.mylist = list([])\n",
    "        self.maxsize=maxsize\n",
    "        \n",
    "    def get_list(self):\n",
    "        return self.mylist\n",
    "        \n",
    "    def push(self,val):\n",
    "        self.mylist.append(val)\n",
    "        \n",
    "        while len(self.mylist)>self.maxsize:\n",
    "            self.mylist.pop(0)\n",
    "    "
   ]
  },
  {
   "cell_type": "code",
   "execution_count": 22,
   "metadata": {
    "collapsed": false
   },
   "outputs": [
    {
     "name": "stdout",
     "output_type": "stream",
     "text": [
      "['hi', \"let's\", 'go']\n",
      "['go']\n"
     ]
    }
   ],
   "source": [
    "a = MaxSizeList(3)\n",
    "b = MaxSizeList(1)\n",
    "\n",
    "a.push(\"hey\")\n",
    "a.push(\"hi\")\n",
    "a.push(\"let's\")\n",
    "a.push(\"go\")\n",
    "\n",
    "b.push(\"hey\")\n",
    "b.push(\"hi\")\n",
    "b.push(\"let's\")\n",
    "b.push(\"go\")\n",
    "\n",
    "print(a.get_list())\n",
    "print(b.get_list())"
   ]
  },
  {
   "cell_type": "code",
   "execution_count": null,
   "metadata": {
    "collapsed": true
   },
   "outputs": [],
   "source": []
  }
 ],
 "metadata": {
  "kernelspec": {
   "display_name": "Python [default]",
   "language": "python",
   "name": "python2"
  },
  "language_info": {
   "codemirror_mode": {
    "name": "ipython",
    "version": 2
   },
   "file_extension": ".py",
   "mimetype": "text/x-python",
   "name": "python",
   "nbconvert_exporter": "python",
   "pygments_lexer": "ipython2",
   "version": "2.7.12"
  }
 },
 "nbformat": 4,
 "nbformat_minor": 0
}
