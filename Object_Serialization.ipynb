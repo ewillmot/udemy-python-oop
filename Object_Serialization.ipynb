{
 "cells": [
  {
   "cell_type": "markdown",
   "metadata": {},
   "source": [
    "## Object Serialization\n",
    "_Serialization_ is \"persistent storage\". Relational storage writes data to tables. Object-based storage stores objects as they're used in code. Object-relational mappings are a balance between the two.\n",
    "\n",
    "\n",
    "**Pickle** is the simplest way to store python objects."
   ]
  },
  {
   "cell_type": "code",
   "execution_count": 2,
   "metadata": {
    "collapsed": false
   },
   "outputs": [
    {
     "name": "stdout",
     "output_type": "stream",
     "text": [
      "['a', 'b', 'c', 'd', 'e']\n"
     ]
    }
   ],
   "source": [
    "import pickle\n",
    "\n",
    "mylist = ['a','b','c','d','e']\n",
    "\n",
    "# To write:\n",
    "# with open('datafile.txt','w') as fh:\n",
    "#     pickle.dump(mylist,fh)\n",
    "    \n",
    "# To read:\n",
    "with open('datafile.txt') as fh:\n",
    "    unpickledlist = pickle.load(fh)\n",
    "    \n",
    "print unpickledlist"
   ]
  },
  {
   "cell_type": "markdown",
   "metadata": {},
   "source": [
    "### Storing Multiple Objects"
   ]
  },
  {
   "cell_type": "code",
   "execution_count": 3,
   "metadata": {
    "collapsed": false
   },
   "outputs": [
    {
     "name": "stdout",
     "output_type": "stream",
     "text": [
      "555\n",
      "oh my goodness\n",
      "{'a': [1, 2, 3], 'b': [4, 5, 6]}\n",
      "[('joe', 22, 'clerk'), ('pete', 34, 'salesman')]\n"
     ]
    }
   ],
   "source": [
    "this_int = 555\n",
    "this_string = 'oh my goodness'\n",
    "mydict_of_lists = {\n",
    "    'a':[1,2,3],\n",
    "    'b':[4,5,6]\n",
    "}\n",
    "\n",
    "query_results = [('joe',22,'clerk'),('pete',34,'salesman')]\n",
    "\n",
    "with open('datafile.txt','w') as fh:\n",
    "    pickle.dump((this_int,this_string,mydict_of_lists,query_results),fh)\n",
    "    \n",
    "with open('datafile.txt') as fh:\n",
    "    tup = pickle.load(fh)\n",
    "    \n",
    "for i in tup:\n",
    "    print i"
   ]
  },
  {
   "cell_type": "markdown",
   "metadata": {},
   "source": [
    "Can also sucessfully store an instance and its state in a pickle file. However, we can pickle an instance but not the class - pickle does not store code. Class needs to be defined within the code for pickle to know attributes. \n",
    "\n",
    "\n",
    "Pickle and cPickle are Python-native object storages. They can store most objects on the disk, but do not store classes, modules, or functions (just references to them). Pickle files are not human readable - they use the pickle protocol which changes between versions of Python. \n",
    "\n",
    "cPickle is a faster, C-compiled implementation"
   ]
  },
  {
   "cell_type": "markdown",
   "metadata": {},
   "source": [
    "### JSON \n",
    "JSON = JavaScript Object Notation\n",
    "\n",
    "Extremely populat for storing and communicating structured data. Human readable, used for config files, resembles python, but is not always valid in Python."
   ]
  },
  {
   "cell_type": "code",
   "execution_count": 5,
   "metadata": {
    "collapsed": true
   },
   "outputs": [],
   "source": [
    "import json\n",
    "\n",
    "# with open('path_to_json.json') as fh:\n",
    "#     conf = json.load(fh)\n",
    "    \n",
    "# print conf    # has type <'dict'>"
   ]
  },
  {
   "cell_type": "markdown",
   "metadata": {},
   "source": [
    "json files are human-readable and also human-editable, but with caveats.\n",
    "\n",
    "\n",
    "{\n",
    "    \"a\":1,\n",
    "    \"b\":2,\n",
    "    \"true_false\":true,        <-- must be lowercase \n",
    "    \"my_str\":'hello there',   <-- does not like single quotes\n",
    "    \"c\":3,                    <-- does not like the trailing comma\n",
    "}\n",
    "\n",
    "\n",
    "Printing json files leads to them all being on a single line (no nice indenting like above). But we can pass more arguments to the json.dump() function:\n",
    "\n",
    "`json.dump(conf,fh,indent=4,separators=(',',': '))`"
   ]
  },
  {
   "cell_type": "markdown",
   "metadata": {},
   "source": [
    "### YAML\n",
    "YAML = Yet Another Markup Language (old)\n",
    "YAML = Yaml Ain't Markup Language (new)\n",
    "\n",
    "\n",
    "YAML uses whitespace to separate elements:\n",
    "\n",
    "key: value\n",
    "key2: value2\n",
    "key3:\n",
    "- listelement\n",
    "- listelement2\n",
    "    - Listelement3\n",
    "    \n",
    "\n",
    "_pyyaml_ doesn't come standard with Python (install via pip). "
   ]
  },
  {
   "cell_type": "code",
   "execution_count": 10,
   "metadata": {
    "collapsed": false
   },
   "outputs": [
    {
     "name": "stdout",
     "output_type": "stream",
     "text": [
      "a: 1\n",
      "b: 2\n",
      "c: 3\n",
      "\n"
     ]
    }
   ],
   "source": [
    "import yaml\n",
    "\n",
    "mydict = {'a':1,'b':2,'c':3}\n",
    "mylist = [1,2,3,4,5]\n",
    "mytuple = ('x','y','z')\n",
    "\n",
    "loaded_yaml = yaml.dump(mydict,default_flow_style=False)\n",
    "print loaded_yaml"
   ]
  },
  {
   "cell_type": "code",
   "execution_count": 12,
   "metadata": {
    "collapsed": false
   },
   "outputs": [
    {
     "name": "stdout",
     "output_type": "stream",
     "text": [
      "- 1\n",
      "- 2\n",
      "- 3\n",
      "- 4\n",
      "- 5\n",
      "\n",
      "!!python/tuple\n",
      "- x\n",
      "- y\n",
      "- z\n",
      "\n"
     ]
    }
   ],
   "source": [
    "print yaml.dump(mylist,default_flow_style=False)\n",
    "print yaml.dump(mytuple,default_flow_style=False)\n",
    "\n",
    "## Different objects are separated by white space"
   ]
  },
  {
   "cell_type": "code",
   "execution_count": 13,
   "metadata": {
    "collapsed": false
   },
   "outputs": [
    {
     "name": "stdout",
     "output_type": "stream",
     "text": [
      "!!python/tuple\n",
      "- - 1\n",
      "  - 2\n",
      "  - 3\n",
      "  - 4\n",
      "  - 5\n",
      "- a: 1\n",
      "  b: 2\n",
      "  c: 3\n",
      "- - x: 98\n",
      "    y: 99\n",
      "    z: 100\n",
      "  - 3\n",
      "  - 4\n",
      "- a:\n",
      "  - 1\n",
      "  - 2\n",
      "  - 3\n",
      "  b:\n",
      "  - 4\n",
      "  - 5\n",
      "  - 6\n",
      "  c:\n",
      "  - 7\n",
      "  - 8\n",
      "  - 9\n",
      "\n"
     ]
    }
   ],
   "source": [
    "# What about more complex objects?\n",
    "\n",
    "myobj = (\n",
    "[1,2,3,4,5],\n",
    "    {'a':1,'b':2,'c':3},\n",
    "    [\n",
    "        {'x':98,'y':99,'z':100},\n",
    "        3,\n",
    "        4\n",
    "    ],\n",
    "    {'a':[1,2,3],'b':[4,5,6],'c':[7,8,9]}\n",
    ")\n",
    "\n",
    "print yaml.dump(myobj,default_flow_style=False)"
   ]
  },
  {
   "cell_type": "code",
   "execution_count": 14,
   "metadata": {
    "collapsed": true
   },
   "outputs": [],
   "source": [
    "## Can use json and yaml together to make things readable:\n",
    "\n",
    "# with open('thisfile.yaml') as fh:\n",
    "#     struct = yaml.load(fh)\n",
    "    \n",
    "# print json.dumps(struct,indent=4,separators=(',',': '))"
   ]
  },
  {
   "cell_type": "markdown",
   "metadata": {},
   "source": [
    "What about classes and instances with yaml? Instances can be stored in yaml, but again, can't store class attributes (still need to make sure the class code is available). \n",
    "\n",
    "\n",
    "`yaml.safe_load()` will only load objects with plain python structures, not instances that belong to a class. Useful when downloading files from the internet where malicious code could be hiding. "
   ]
  },
  {
   "cell_type": "markdown",
   "metadata": {},
   "source": [
    "### Assignment 5\n",
    "Using code from assignment 4, re-write it so that data is written to a pickle file instead of text file.\n",
    "\n",
    "Instead of inputting a filename, pass a name of a config name inside a pre-defined directory."
   ]
  },
  {
   "cell_type": "code",
   "execution_count": null,
   "metadata": {
    "collapsed": true
   },
   "outputs": [],
   "source": []
  }
 ],
 "metadata": {
  "kernelspec": {
   "display_name": "Python [default]",
   "language": "python",
   "name": "python2"
  },
  "language_info": {
   "codemirror_mode": {
    "name": "ipython",
    "version": 2
   },
   "file_extension": ".py",
   "mimetype": "text/x-python",
   "name": "python",
   "nbconvert_exporter": "python",
   "pygments_lexer": "ipython2",
   "version": "2.7.12"
  }
 },
 "nbformat": 4,
 "nbformat_minor": 0
}
