{
 "cells": [
  {
   "cell_type": "markdown",
   "metadata": {},
   "source": [
    "## Object Serialization\n",
    "_Serialization_ is \"persistent storage\". Relational storage writes data to tables. Object-based storage stores objects as they're used in code. Object-relational mappings are a balance between the two.\n",
    "\n",
    "\n",
    "**Pickle** is the simplest way to store python objects."
   ]
  },
  {
   "cell_type": "code",
   "execution_count": 2,
   "metadata": {
    "collapsed": false
   },
   "outputs": [
    {
     "name": "stdout",
     "output_type": "stream",
     "text": [
      "['a', 'b', 'c', 'd', 'e']\n"
     ]
    }
   ],
   "source": [
    "import pickle\n",
    "\n",
    "mylist = ['a','b','c','d','e']\n",
    "\n",
    "# To write:\n",
    "# with open('datafile.txt','w') as fh:\n",
    "#     pickle.dump(mylist,fh)\n",
    "    \n",
    "# To read:\n",
    "with open('datafile.txt') as fh:\n",
    "    unpickledlist = pickle.load(fh)\n",
    "    \n",
    "print unpickledlist"
   ]
  },
  {
   "cell_type": "markdown",
   "metadata": {},
   "source": [
    "### Storing Multiple Objects"
   ]
  },
  {
   "cell_type": "code",
   "execution_count": 3,
   "metadata": {
    "collapsed": false
   },
   "outputs": [
    {
     "name": "stdout",
     "output_type": "stream",
     "text": [
      "555\n",
      "oh my goodness\n",
      "{'a': [1, 2, 3], 'b': [4, 5, 6]}\n",
      "[('joe', 22, 'clerk'), ('pete', 34, 'salesman')]\n"
     ]
    }
   ],
   "source": [
    "this_int = 555\n",
    "this_string = 'oh my goodness'\n",
    "mydict_of_lists = {\n",
    "    'a':[1,2,3],\n",
    "    'b':[4,5,6]\n",
    "}\n",
    "\n",
    "query_results = [('joe',22,'clerk'),('pete',34,'salesman')]\n",
    "\n",
    "with open('datafile.txt','w') as fh:\n",
    "    pickle.dump((this_int,this_string,mydict_of_lists,query_results),fh)\n",
    "    \n",
    "with open('datafile.txt') as fh:\n",
    "    tup = pickle.load(fh)\n",
    "    \n",
    "for i in tup:\n",
    "    print i"
   ]
  },
  {
   "cell_type": "markdown",
   "metadata": {},
   "source": [
    "Can also sucessfully store an instance and its state in a pickle file. However, we can pickle an instance but not the class - pickle does not store code. Class needs to be defined within the code for pickle to know attributes. \n",
    "\n",
    "\n",
    "Pickle and cPickle are Python-native object storages. They can store most objects on the disk, but do not store classes, modules, or functions (just references to them). Pickle files are not human readable - they use the pickle protocol which changes between versions of Python. \n",
    "\n",
    "cPickle is a faster, C-compiled implementation"
   ]
  },
  {
   "cell_type": "markdown",
   "metadata": {},
   "source": [
    "### JSON \n",
    "JSON = JavaScript Object Notation\n",
    "\n",
    "Extremely populat for storing and communicating structured data. Human readable, used for config files, resembles python, but is not always valid in Python."
   ]
  },
  {
   "cell_type": "code",
   "execution_count": 5,
   "metadata": {
    "collapsed": true
   },
   "outputs": [],
   "source": [
    "import json\n",
    "\n",
    "# with open('path_to_json.json') as fh:\n",
    "#     conf = json.load(fh)\n",
    "    \n",
    "# print conf    # has type <'dict'>"
   ]
  },
  {
   "cell_type": "markdown",
   "metadata": {},
   "source": [
    "json files are human-readable and also human-editable, but with caveats.\n",
    "\n",
    "\n",
    "{\n",
    "    \"a\":1,\n",
    "    \"b\":2,\n",
    "    \"true_false\":true,        <-- must be lowercase \n",
    "    \"my_str\":'hello there',   <-- does not like single quotes\n",
    "    \"c\":3,                    <-- does not like the trailing comma\n",
    "}\n",
    "\n",
    "\n",
    "Printing json files leads to them all being on a single line (no nice indenting like above). But we can pass more arguments to the json.dump() function:\n",
    "\n",
    "`json.dump(conf,fh,indent=4,separators=(',',': '))`"
   ]
  },
  {
   "cell_type": "markdown",
   "metadata": {},
   "source": [
    "### YAML\n",
    "YAML = Yet Another Markup Language (old)\n",
    "YAML = Yaml Ain't Markup Language (new)\n",
    "\n",
    "\n",
    "YAML uses whitespace to separate elements:\n",
    "\n",
    "key: value\n",
    "key2: value2\n",
    "key3:\n",
    "- listelement\n",
    "- listelement2\n",
    "    - Listelement3\n",
    "    \n",
    "\n",
    "_pyyaml_ doesn't come standard with Python (install via pip). "
   ]
  },
  {
   "cell_type": "code",
   "execution_count": null,
   "metadata": {
    "collapsed": true
   },
   "outputs": [],
   "source": []
  }
 ],
 "metadata": {
  "kernelspec": {
   "display_name": "Python [default]",
   "language": "python",
   "name": "python2"
  },
  "language_info": {
   "codemirror_mode": {
    "name": "ipython",
    "version": 2
   },
   "file_extension": ".py",
   "mimetype": "text/x-python",
   "name": "python",
   "nbconvert_exporter": "python",
   "pygments_lexer": "ipython2",
   "version": "2.7.12"
  }
 },
 "nbformat": 4,
 "nbformat_minor": 0
}
